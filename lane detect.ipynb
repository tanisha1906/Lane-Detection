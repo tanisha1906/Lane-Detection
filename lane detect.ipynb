{
 "cells": [
  {
   "cell_type": "code",
   "execution_count": 1,
   "id": "ebc1ef60",
   "metadata": {},
   "outputs": [
    {
     "name": "stderr",
     "output_type": "stream",
     "text": [
      "[h264 @ 0x3176e00] A non-intra slice in an IDR NAL unit.\n",
      "[h264 @ 0x3176e00] decode_slice_header error\n",
      "[h264 @ 0x3191640] A non-intra slice in an IDR NAL unit.\n",
      "[h264 @ 0x3191640] decode_slice_header error\n"
     ]
    },
    {
     "ename": "error",
     "evalue": "OpenCV(4.7.0) /io/opencv/modules/imgproc/src/color.cpp:182: error: (-215:Assertion failed) !_src.empty() in function 'cvtColor'\n",
     "output_type": "error",
     "traceback": [
      "\u001b[0;31m---------------------------------------------------------------------------\u001b[0m",
      "\u001b[0;31merror\u001b[0m                                     Traceback (most recent call last)",
      "Cell \u001b[0;32mIn [1], line 33\u001b[0m\n\u001b[1;32m     31\u001b[0m \u001b[38;5;28;01mwhile\u001b[39;00m \u001b[38;5;28;01mTrue\u001b[39;00m:\n\u001b[1;32m     32\u001b[0m     _,frame\u001b[38;5;241m=\u001b[39mvdo\u001b[38;5;241m.\u001b[39mread()\n\u001b[0;32m---> 33\u001b[0m     canny_img \u001b[38;5;241m=\u001b[39m \u001b[43medges\u001b[49m\u001b[43m(\u001b[49m\u001b[43mframe\u001b[49m\u001b[43m)\u001b[49m\n\u001b[1;32m     34\u001b[0m     cropped \u001b[38;5;241m=\u001b[39m region_of_interest(canny_img)\n\u001b[1;32m     35\u001b[0m     lanes \u001b[38;5;241m=\u001b[39m houghlines(frame,cropped)\n",
      "Cell \u001b[0;32mIn [1], line 5\u001b[0m, in \u001b[0;36medges\u001b[0;34m(image)\u001b[0m\n\u001b[1;32m      4\u001b[0m \u001b[38;5;28;01mdef\u001b[39;00m \u001b[38;5;21medges\u001b[39m(image):\n\u001b[0;32m----> 5\u001b[0m     hsv \u001b[38;5;241m=\u001b[39m \u001b[43mcv2\u001b[49m\u001b[38;5;241;43m.\u001b[39;49m\u001b[43mcvtColor\u001b[49m\u001b[43m(\u001b[49m\u001b[43mframe\u001b[49m\u001b[43m,\u001b[49m\u001b[43m \u001b[49m\u001b[43mcv2\u001b[49m\u001b[38;5;241;43m.\u001b[39;49m\u001b[43mCOLOR_BGR2HSV\u001b[49m\u001b[43m)\u001b[49m\n\u001b[1;32m      6\u001b[0m     gray \u001b[38;5;241m=\u001b[39m cv2\u001b[38;5;241m.\u001b[39mcvtColor(hsv, cv2\u001b[38;5;241m.\u001b[39mCOLOR_BGR2GRAY)\n\u001b[1;32m      7\u001b[0m     _,thresh1\u001b[38;5;241m=\u001b[39mcv2\u001b[38;5;241m.\u001b[39mthreshold(gray,\u001b[38;5;241m150\u001b[39m,\u001b[38;5;241m176\u001b[39m,cv2\u001b[38;5;241m.\u001b[39mTHRESH_BINARY_INV\u001b[38;5;241m+\u001b[39m cv2\u001b[38;5;241m.\u001b[39mTHRESH_TRIANGLE)\n",
      "\u001b[0;31merror\u001b[0m: OpenCV(4.7.0) /io/opencv/modules/imgproc/src/color.cpp:182: error: (-215:Assertion failed) !_src.empty() in function 'cvtColor'\n"
     ]
    }
   ],
   "source": [
    "import cv2 \n",
    "import numpy as np\n",
    "\n",
    "def edges(image):\n",
    "    hsv = cv2.cvtColor(frame, cv2.COLOR_BGR2HSV)\n",
    "    gray = cv2.cvtColor(hsv, cv2.COLOR_BGR2GRAY)\n",
    "    _,thresh1=cv2.threshold(gray,150,176,cv2.THRESH_BINARY_INV+ cv2.THRESH_TRIANGLE)\n",
    "    return thresh1\n",
    "\n",
    "\n",
    "def region_of_interest(image):\n",
    "    height,width = image.shape\n",
    "    polygon=np.array([[(0,height),(0,height//2+25),(width,height)]],np.int32)\n",
    "    mask =np.zeros_like(image)\n",
    "    cv2.fillPoly(mask, polygon , 255)\n",
    "    masked_image=cv2.bitwise_and(image,mask)\n",
    "    return masked_image\n",
    "\n",
    "def houghlines(image,crop):\n",
    "    morp = cv2.morphologyEx(crop,cv2.MORPH_OPEN,(5,5))\n",
    "    er=cv2.erode(morp,(5,5))\n",
    "    lines = cv2.HoughLinesP(er , 2 , np.pi/180, 150  ,maxLineGap = 10, minLineLength=50)\n",
    "    if lines is not None:\n",
    "         for i in range(0,lines.shape[0]):\n",
    "            for x1,x2,y1,y2 in lines[i]:\n",
    "                cv2.line(image,(x1,y1),(x2,y2),(255,0,0),3)\n",
    "    return image\n",
    "\n",
    "vdo = cv2.VideoCapture(\"lane_vgt.mp4\")\n",
    "\n",
    "while True:\n",
    "    _,frame=vdo.read()\n",
    "    canny_img = edges(frame)\n",
    "    cropped = region_of_interest(canny_img)\n",
    "    lanes = houghlines(frame,cropped)\n",
    "    cv2.imshow(\"\",lanes)\n",
    "    \n",
    "    if cv2.waitKey(1) & 0xFF == ord('q'):\n",
    "        break\n",
    "\n",
    "vdo.release()\n",
    "cv2.destroyAllWindows()\n",
    "    "
   ]
  },
  {
   "cell_type": "code",
   "execution_count": null,
   "id": "31e08c4e",
   "metadata": {},
   "outputs": [],
   "source": []
  }
 ],
 "metadata": {
  "kernelspec": {
   "display_name": "Python 3 (ipykernel)",
   "language": "python",
   "name": "python3"
  },
  "language_info": {
   "codemirror_mode": {
    "name": "ipython",
    "version": 3
   },
   "file_extension": ".py",
   "mimetype": "text/x-python",
   "name": "python",
   "nbconvert_exporter": "python",
   "pygments_lexer": "ipython3",
   "version": "3.8.10"
  }
 },
 "nbformat": 4,
 "nbformat_minor": 5
}
