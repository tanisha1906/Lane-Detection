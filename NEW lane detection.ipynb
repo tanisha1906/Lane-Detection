{
 "cells": [
  {
   "cell_type": "code",
   "execution_count": null,
   "id": "a3e5babd",
   "metadata": {},
   "outputs": [],
   "source": [
    "import cv2 \n",
    "import numpy as np\n",
    "\n",
    "video = cv2.VideoCapture(\"lane_vgt.mp4\")\n",
    "\n",
    "while True:\n",
    "    ret,orig_frame = video.read()\n",
    "    \n",
    "    frame = cv2.GaussianBlur(orig_frame, (5, 5), 0)\n",
    "    \n",
    "    hsv = cv2.cvtColor(frame, cv2.COLOR_BGR2HSV)\n",
    "    \n",
    "    lower_white = np.array([0,118,0])\n",
    "    upper_white = np.array([79,255,255])\n",
    "    \n",
    "    mask = cv2.inRange(hsv, lower_white, upper_white)\n",
    "    edges = cv2.Canny(mask,200, 250)\n",
    "    lines = cv2.HoughLinesP(edges , 1 , np.pi/180, 80 , maxLineGap = 2000,minLineLength=5)\n",
    "    \n",
    "    if lines is not None:\n",
    "        \n",
    "        for line in lines:\n",
    "            x1,x2,y1,y2=line[0]\n",
    "            if(y1>200 or y2>200):\n",
    "                cv2.line(frame,(x1,y1),(x2,y2),(0,255,0),2)\n",
    "    \n",
    "    \n",
    "    \n",
    "    cv2.imshow(\"Window\",frame)\n",
    "    cv2.imshow(\"Mask\",mask)\n",
    "    cv2.imshow(\"Edges\",edges)\n",
    "   \n",
    "    \n",
    "    key=cv2.waitKey(1)\n",
    "    if key == 27:\n",
    "        break\n",
    "        \n",
    "video.release()\n",
    "cv2.destroyAllWindows()"
   ]
  },
  {
   "cell_type": "code",
   "execution_count": null,
   "id": "c01c2998",
   "metadata": {},
   "outputs": [],
   "source": []
  },
  {
   "cell_type": "code",
   "execution_count": null,
   "id": "fdf47b04",
   "metadata": {},
   "outputs": [],
   "source": []
  },
  {
   "cell_type": "code",
   "execution_count": null,
   "id": "5f8b0eb5",
   "metadata": {},
   "outputs": [],
   "source": []
  }
 ],
 "metadata": {
  "kernelspec": {
   "display_name": "Python 3 (ipykernel)",
   "language": "python",
   "name": "python3"
  },
  "language_info": {
   "codemirror_mode": {
    "name": "ipython",
    "version": 3
   },
   "file_extension": ".py",
   "mimetype": "text/x-python",
   "name": "python",
   "nbconvert_exporter": "python",
   "pygments_lexer": "ipython3",
   "version": "3.8.10"
  }
 },
 "nbformat": 4,
 "nbformat_minor": 5
}
