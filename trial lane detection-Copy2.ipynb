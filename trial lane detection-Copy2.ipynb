{
 "cells": [
  {
   "cell_type": "code",
   "execution_count": 1,
   "id": "961ad776",
   "metadata": {
    "scrolled": true
   },
   "outputs": [
    {
     "ename": "error",
     "evalue": "OpenCV(4.7.0) /io/opencv/modules/highgui/src/window.cpp:971: error: (-215:Assertion failed) size.width>0 && size.height>0 in function 'imshow'\n",
     "output_type": "error",
     "traceback": [
      "\u001b[0;31m---------------------------------------------------------------------------\u001b[0m",
      "\u001b[0;31merror\u001b[0m                                     Traceback (most recent call last)",
      "Cell \u001b[0;32mIn [1], line 36\u001b[0m\n\u001b[1;32m     33\u001b[0m lines \u001b[38;5;241m=\u001b[39m cv2\u001b[38;5;241m.\u001b[39mHoughLinesP(cropped_image , \u001b[38;5;241m1\u001b[39m , np\u001b[38;5;241m.\u001b[39mpi\u001b[38;5;241m/\u001b[39m\u001b[38;5;241m180\u001b[39m, \u001b[38;5;241m100\u001b[39m , np\u001b[38;5;241m.\u001b[39marray([]) ,maxLineGap \u001b[38;5;241m=\u001b[39m \u001b[38;5;241m5\u001b[39m,minLineLength\u001b[38;5;241m=\u001b[39m\u001b[38;5;241m40\u001b[39m)\n\u001b[1;32m     34\u001b[0m line_image \u001b[38;5;241m=\u001b[39m display_lines(lane_image,lines)\n\u001b[0;32m---> 36\u001b[0m \u001b[43mcv2\u001b[49m\u001b[38;5;241;43m.\u001b[39;49m\u001b[43mimshow\u001b[49m\u001b[43m(\u001b[49m\u001b[38;5;124;43m'\u001b[39;49m\u001b[38;5;124;43mresults\u001b[39;49m\u001b[38;5;124;43m'\u001b[39;49m\u001b[43m,\u001b[49m\u001b[43m \u001b[49m\u001b[43mline_image\u001b[49m\u001b[43m)\u001b[49m\n\u001b[1;32m     37\u001b[0m cv2\u001b[38;5;241m.\u001b[39mwaitKey(\u001b[38;5;241m0\u001b[39m)\n",
      "\u001b[0;31merror\u001b[0m: OpenCV(4.7.0) /io/opencv/modules/highgui/src/window.cpp:971: error: (-215:Assertion failed) size.width>0 && size.height>0 in function 'imshow'\n"
     ]
    }
   ],
   "source": [
    "import cv2\n",
    "import numpy as np\n",
    "import matplotlib.pyplot as plt\n",
    "\n",
    "def canny(image):\n",
    "    gray = cv2.cvtColor(lane_image, cv2.COLOR_RGB2GRAY)\n",
    "    blur = cv2.GaussianBlur(gray, (5,5), 0)\n",
    "    canny = cv2.Canny(blur, 50 , 150)\n",
    "    return canny\n",
    "\n",
    "def display_lines(image , lines):\n",
    "    line_image = np.zeros_like(image)\n",
    "    if lines is not None:\n",
    "         for line in lines:\n",
    "            x1,x2,y1,y2=line.reshape(4)\n",
    "            cv2.line(line_image,(x1,y1),(x2,y2),(0,255,0),2)\n",
    "            return line_image\n",
    "\n",
    "def region_of_interest(image):\n",
    "    height = image.shape[0]\n",
    "    polygons = np.array([[(65, height), (274, height), (97,142)]])\n",
    "    mask = np.zeros_like(image)\n",
    "    cv2.fillPoly(mask, polygons, 255)\n",
    "    masked_image=cv2.bitwise_and(image,mask)\n",
    "    return masked_image\n",
    "    return mask\n",
    "\n",
    "\n",
    "image = cv2.imread('lane.jpeg')\n",
    "lane_image = np.copy(image)\n",
    "canny = canny(lane_image)\n",
    "cropped_image= region_of_interest(canny)\n",
    "lines = cv2.HoughLinesP(cropped_image , 1 , np.pi/180, 100 , np.array([]) ,maxLineGap = 5,minLineLength=40)\n",
    "line_image = display_lines(lane_image,lines)\n",
    "\n",
    "cv2.imshow('results', line_image)\n",
    "cv2.waitKey(0)\n"
   ]
  },
  {
   "cell_type": "code",
   "execution_count": null,
   "id": "3484e01f",
   "metadata": {},
   "outputs": [],
   "source": []
  },
  {
   "cell_type": "code",
   "execution_count": null,
   "id": "4b24f3ce",
   "metadata": {},
   "outputs": [],
   "source": []
  }
 ],
 "metadata": {
  "kernelspec": {
   "display_name": "Python 3 (ipykernel)",
   "language": "python",
   "name": "python3"
  },
  "language_info": {
   "codemirror_mode": {
    "name": "ipython",
    "version": 3
   },
   "file_extension": ".py",
   "mimetype": "text/x-python",
   "name": "python",
   "nbconvert_exporter": "python",
   "pygments_lexer": "ipython3",
   "version": "3.8.10"
  }
 },
 "nbformat": 4,
 "nbformat_minor": 5
}
